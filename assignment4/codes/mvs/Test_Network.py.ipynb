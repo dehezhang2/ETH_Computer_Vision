{
 "cells": [
  {
   "cell_type": "code",
   "execution_count": 1,
   "id": "70c583a0",
   "metadata": {},
   "outputs": [],
   "source": [
    "import torch\n",
    "import torch.nn as nn\n",
    "import torch.nn.functional as F\n",
    "from models.module import *\n",
    "import numpy as np"
   ]
  },
  {
   "cell_type": "code",
   "execution_count": 2,
   "id": "e614f77f",
   "metadata": {},
   "outputs": [],
   "source": [
    "x = torch.randn(8, 3, 640, 512)\n",
    "feature = FeatureNet()"
   ]
  },
  {
   "cell_type": "code",
   "execution_count": 3,
   "id": "02efb7e9",
   "metadata": {},
   "outputs": [],
   "source": [
    "x_p = feature(x)"
   ]
  },
  {
   "cell_type": "code",
   "execution_count": 4,
   "id": "c35ec5e3",
   "metadata": {},
   "outputs": [
    {
     "name": "stdout",
     "output_type": "stream",
     "text": [
      "torch.Size([8, 32, 160, 128])\n"
     ]
    }
   ],
   "source": [
    "print(x_p.shape)"
   ]
  },
  {
   "cell_type": "code",
   "execution_count": 5,
   "id": "e60f434a",
   "metadata": {},
   "outputs": [],
   "source": [
    "B = 4\n",
    "C = 32\n",
    "H = 160\n",
    "W = 128\n",
    "D = 100\n",
    "depth_values = torch.randn(B, D)\n",
    "src_fea = torch.randn(B, C, H, W)\n",
    "src_proj = torch.randn(B, 4, 4)\n",
    "ref_proj = torch.randn(B, 4, 4)"
   ]
  },
  {
   "cell_type": "code",
   "execution_count": 6,
   "id": "7ba7b6b2",
   "metadata": {},
   "outputs": [],
   "source": [
    "res = warping(src_fea, src_proj, ref_proj, depth_values)"
   ]
  },
  {
   "cell_type": "code",
   "execution_count": 7,
   "id": "2446160b",
   "metadata": {},
   "outputs": [
    {
     "data": {
      "text/plain": [
       "torch.Size([4, 32, 100, 160, 128])"
      ]
     },
     "execution_count": 7,
     "metadata": {},
     "output_type": "execute_result"
    }
   ],
   "source": [
    "res.shape"
   ]
  },
  {
   "cell_type": "code",
   "execution_count": 8,
   "id": "736d4ee8",
   "metadata": {},
   "outputs": [],
   "source": [
    "similarity = group_wise_correlation(src_fea, res, 8)"
   ]
  },
  {
   "cell_type": "code",
   "execution_count": 9,
   "id": "b7632b14",
   "metadata": {},
   "outputs": [
    {
     "data": {
      "text/plain": [
       "torch.Size([4, 8, 100, 160, 128])"
      ]
     },
     "execution_count": 9,
     "metadata": {},
     "output_type": "execute_result"
    }
   ],
   "source": [
    "similarity.shape"
   ]
  },
  {
   "cell_type": "code",
   "execution_count": 10,
   "id": "5bcbbb06",
   "metadata": {},
   "outputs": [],
   "source": [
    "corr = SimlarityRegNet(8)"
   ]
  },
  {
   "cell_type": "code",
   "execution_count": 11,
   "id": "5de59116",
   "metadata": {},
   "outputs": [],
   "source": [
    "similarity_reg = corr(similarity)"
   ]
  },
  {
   "cell_type": "code",
   "execution_count": 12,
   "id": "e5acff3c",
   "metadata": {},
   "outputs": [
    {
     "data": {
      "text/plain": [
       "torch.Size([4, 100, 160, 128])"
      ]
     },
     "execution_count": 12,
     "metadata": {},
     "output_type": "execute_result"
    }
   ],
   "source": [
    "similarity_reg.shape"
   ]
  },
  {
   "cell_type": "code",
   "execution_count": 25,
   "id": "c19430e9",
   "metadata": {},
   "outputs": [],
   "source": [
    "depth = torch.randn(B, D)"
   ]
  },
  {
   "cell_type": "code",
   "execution_count": null,
   "id": "0d476900",
   "metadata": {},
   "outputs": [],
   "source": []
  }
 ],
 "metadata": {
  "kernelspec": {
   "display_name": "Python 3",
   "language": "python",
   "name": "python3"
  },
  "language_info": {
   "codemirror_mode": {
    "name": "ipython",
    "version": 3
   },
   "file_extension": ".py",
   "mimetype": "text/x-python",
   "name": "python",
   "nbconvert_exporter": "python",
   "pygments_lexer": "ipython3",
   "version": "3.6.13"
  }
 },
 "nbformat": 4,
 "nbformat_minor": 5
}
