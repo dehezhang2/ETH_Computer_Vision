{
 "cells": [
  {
   "cell_type": "code",
   "execution_count": 1,
   "id": "1c10142d",
   "metadata": {},
   "outputs": [],
   "source": [
    "import torch\n",
    "import torch.nn as nn\n",
    "import torch.nn.functional as F\n",
    "from models.module import *"
   ]
  },
  {
   "cell_type": "code",
   "execution_count": 4,
   "id": "9cc3c437",
   "metadata": {},
   "outputs": [],
   "source": [
    "x = torch.randn(8, 3, 640, 512)\n",
    "feature = FeatureNet()"
   ]
  },
  {
   "cell_type": "code",
   "execution_count": 5,
   "id": "50bada70",
   "metadata": {},
   "outputs": [],
   "source": [
    "x_p = feature(x)"
   ]
  },
  {
   "cell_type": "code",
   "execution_count": 6,
   "id": "bdfeca78",
   "metadata": {},
   "outputs": [
    {
     "name": "stdout",
     "output_type": "stream",
     "text": [
      "torch.Size([8, 32, 160, 128])\n"
     ]
    }
   ],
   "source": [
    "print(x_p.shape)"
   ]
  },
  {
   "cell_type": "code",
   "execution_count": 10,
   "id": "92b07697",
   "metadata": {},
   "outputs": [],
   "source": [
    "H = 3\n",
    "W = 6\n",
    "y,x = torch.meshgrid([torch.arange(0, H, dtype=torch.float32),\n",
    "                               torch.arange(0, W, dtype=torch.float32)])"
   ]
  },
  {
   "cell_type": "code",
   "execution_count": 11,
   "id": "8d63c8a1",
   "metadata": {},
   "outputs": [
    {
     "data": {
      "text/plain": [
       "tensor([[0., 0., 0., 0., 0., 0.],\n",
       "        [1., 1., 1., 1., 1., 1.],\n",
       "        [2., 2., 2., 2., 2., 2.]])"
      ]
     },
     "execution_count": 11,
     "metadata": {},
     "output_type": "execute_result"
    }
   ],
   "source": [
    "y"
   ]
  },
  {
   "cell_type": "code",
   "execution_count": 12,
   "id": "0b4502aa",
   "metadata": {},
   "outputs": [
    {
     "data": {
      "text/plain": [
       "tensor([[0., 1., 2., 3., 4., 5.],\n",
       "        [0., 1., 2., 3., 4., 5.],\n",
       "        [0., 1., 2., 3., 4., 5.]])"
      ]
     },
     "execution_count": 12,
     "metadata": {},
     "output_type": "execute_result"
    }
   ],
   "source": [
    "x"
   ]
  },
  {
   "cell_type": "code",
   "execution_count": 13,
   "id": "39a13b09",
   "metadata": {},
   "outputs": [],
   "source": [
    "y, x = y.contiguous(), x.contiguous()\n",
    "y, x = y.view(H * W), x.view(H * W)"
   ]
  },
  {
   "cell_type": "code",
   "execution_count": 15,
   "id": "f3a6a4af",
   "metadata": {},
   "outputs": [
    {
     "data": {
      "text/plain": [
       "tensor([0., 0., 0., 0., 0., 0., 1., 1., 1., 1., 1., 1., 2., 2., 2., 2., 2., 2.])"
      ]
     },
     "execution_count": 15,
     "metadata": {},
     "output_type": "execute_result"
    }
   ],
   "source": [
    "y"
   ]
  },
  {
   "cell_type": "code",
   "execution_count": 16,
   "id": "ab6cb8c5",
   "metadata": {},
   "outputs": [
    {
     "data": {
      "text/plain": [
       "tensor([0., 1., 2., 3., 4., 5., 0., 1., 2., 3., 4., 5., 0., 1., 2., 3., 4., 5.])"
      ]
     },
     "execution_count": 16,
     "metadata": {},
     "output_type": "execute_result"
    }
   ],
   "source": [
    "x"
   ]
  },
  {
   "cell_type": "code",
   "execution_count": null,
   "id": "856c4535",
   "metadata": {},
   "outputs": [],
   "source": []
  }
 ],
 "metadata": {
  "kernelspec": {
   "display_name": "Python 3",
   "language": "python",
   "name": "python3"
  },
  "language_info": {
   "codemirror_mode": {
    "name": "ipython",
    "version": 3
   },
   "file_extension": ".py",
   "mimetype": "text/x-python",
   "name": "python",
   "nbconvert_exporter": "python",
   "pygments_lexer": "ipython3",
   "version": "3.6.13"
  }
 },
 "nbformat": 4,
 "nbformat_minor": 5
}
