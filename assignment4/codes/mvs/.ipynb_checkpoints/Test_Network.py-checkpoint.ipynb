{
 "cells": [
  {
   "cell_type": "code",
   "execution_count": 1,
   "id": "9faad37c",
   "metadata": {},
   "outputs": [],
   "source": [
    "import torch\n",
    "import torch.nn as nn\n",
    "import torch.nn.functional as F\n",
    "from models.module import *"
   ]
  },
  {
   "cell_type": "code",
   "execution_count": 4,
   "id": "e8361060",
   "metadata": {},
   "outputs": [],
   "source": [
    "x = torch.randn(8, 3, 640, 512)\n",
    "feature = FeatureNet()"
   ]
  },
  {
   "cell_type": "code",
   "execution_count": 5,
   "id": "60a5c273",
   "metadata": {},
   "outputs": [],
   "source": [
    "x_p = feature(x)"
   ]
  },
  {
   "cell_type": "code",
   "execution_count": 6,
   "id": "b3e57414",
   "metadata": {},
   "outputs": [
    {
     "name": "stdout",
     "output_type": "stream",
     "text": [
      "torch.Size([8, 32, 160, 128])\n"
     ]
    }
   ],
   "source": [
    "print(x_p.shape)"
   ]
  },
  {
   "cell_type": "code",
   "execution_count": 7,
   "id": "cc61cba7",
   "metadata": {},
   "outputs": [],
   "source": [
    "H = 3\n",
    "W = 6\n",
    "y,x = torch.meshgrid([torch.arange(0, H, dtype=torch.float32),\n",
    "                               torch.arange(0, W, dtype=torch.float32)])"
   ]
  },
  {
   "cell_type": "code",
   "execution_count": 8,
   "id": "6bc0e12a",
   "metadata": {},
   "outputs": [
    {
     "data": {
      "text/plain": [
       "tensor([[0., 0., 0., 0.],\n",
       "        [1., 1., 1., 1.],\n",
       "        [2., 2., 2., 2.]])"
      ]
     },
     "execution_count": 8,
     "metadata": {},
     "output_type": "execute_result"
    }
   ],
   "source": [
    "y"
   ]
  },
  {
   "cell_type": "code",
   "execution_count": 9,
   "id": "a464e91f",
   "metadata": {},
   "outputs": [
    {
     "data": {
      "text/plain": [
       "tensor([[0., 1., 2., 3.],\n",
       "        [0., 1., 2., 3.],\n",
       "        [0., 1., 2., 3.]])"
      ]
     },
     "execution_count": 9,
     "metadata": {},
     "output_type": "execute_result"
    }
   ],
   "source": [
    "x"
   ]
  },
  {
   "cell_type": "code",
   "execution_count": null,
   "id": "ba6ce61c",
   "metadata": {},
   "outputs": [],
   "source": []
  }
 ],
 "metadata": {
  "kernelspec": {
   "display_name": "Python 3",
   "language": "python",
   "name": "python3"
  },
  "language_info": {
   "codemirror_mode": {
    "name": "ipython",
    "version": 3
   },
   "file_extension": ".py",
   "mimetype": "text/x-python",
   "name": "python",
   "nbconvert_exporter": "python",
   "pygments_lexer": "ipython3",
   "version": "3.6.13"
  }
 },
 "nbformat": 4,
 "nbformat_minor": 5
}
