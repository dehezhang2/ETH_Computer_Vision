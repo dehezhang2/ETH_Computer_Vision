{
 "cells": [
  {
   "cell_type": "code",
   "execution_count": 1,
   "id": "5af84bdc",
   "metadata": {},
   "outputs": [],
   "source": [
    "from torch.utils.data import Dataset\n",
    "import numpy as np\n",
    "import os\n",
    "from PIL import Image\n",
    "from datasets.data_io import *"
   ]
  },
  {
   "cell_type": "code",
   "execution_count": 2,
   "id": "def9e852",
   "metadata": {},
   "outputs": [],
   "source": [
    "img = read_img('./dtu_dataset/scan1/images/rect_001_0_r5000.png')"
   ]
  },
  {
   "cell_type": "code",
   "execution_count": 3,
   "id": "eb64d61f",
   "metadata": {},
   "outputs": [
    {
     "data": {
      "text/plain": [
       "(512, 640, 3)"
      ]
     },
     "execution_count": 3,
     "metadata": {},
     "output_type": "execute_result"
    }
   ],
   "source": [
    "img.shape"
   ]
  },
  {
   "cell_type": "code",
   "execution_count": null,
   "id": "3642558e",
   "metadata": {},
   "outputs": [],
   "source": [
    "np.max(img)"
   ]
  },
  {
   "cell_type": "code",
   "execution_count": null,
   "id": "63d5aa3c",
   "metadata": {},
   "outputs": [],
   "source": [
    "np.min(img)"
   ]
  },
  {
   "cell_type": "code",
   "execution_count": 4,
   "id": "de5cedca",
   "metadata": {},
   "outputs": [],
   "source": [
    "intrinsics, extrinsics, depth_min, depth_max = read_cam_file('./dtu_dataset/scan1/cams/00000000_cam.txt')"
   ]
  },
  {
   "cell_type": "code",
   "execution_count": 5,
   "id": "05c6d46e",
   "metadata": {},
   "outputs": [
    {
     "data": {
      "text/plain": [
       "array([[361.54126,   0.     ,  82.90063],\n",
       "       [  0.     , 360.3975 ,  66.38387],\n",
       "       [  0.     ,   0.     ,   1.     ]], dtype=float32)"
      ]
     },
     "execution_count": 5,
     "metadata": {},
     "output_type": "execute_result"
    }
   ],
   "source": [
    "intrinsics"
   ]
  },
  {
   "cell_type": "code",
   "execution_count": 6,
   "id": "4f673661",
   "metadata": {},
   "outputs": [
    {
     "data": {
      "text/plain": [
       "array([[ 9.70263e-01,  7.47983e-03,  2.41939e-01, -1.91020e+02],\n",
       "       [-1.47429e-02,  9.99493e-01,  2.82234e-02,  3.28832e+00],\n",
       "       [-2.41605e-01, -3.09510e-02,  9.69881e-01,  2.25401e+01],\n",
       "       [ 0.00000e+00,  0.00000e+00,  0.00000e+00,  1.00000e+00]],\n",
       "      dtype=float32)"
      ]
     },
     "execution_count": 6,
     "metadata": {},
     "output_type": "execute_result"
    }
   ],
   "source": [
    "extrinsics"
   ]
  },
  {
   "cell_type": "code",
   "execution_count": 7,
   "id": "04e55f39",
   "metadata": {},
   "outputs": [
    {
     "data": {
      "text/plain": [
       "425.0"
      ]
     },
     "execution_count": 7,
     "metadata": {},
     "output_type": "execute_result"
    }
   ],
   "source": [
    "depth_min"
   ]
  },
  {
   "cell_type": "code",
   "execution_count": 8,
   "id": "7f5e25f5",
   "metadata": {},
   "outputs": [
    {
     "data": {
      "text/plain": [
       "935.0"
      ]
     },
     "execution_count": 8,
     "metadata": {},
     "output_type": "execute_result"
    }
   ],
   "source": [
    "depth_max"
   ]
  }
 ],
 "metadata": {
  "kernelspec": {
   "display_name": "Python 3",
   "language": "python",
   "name": "python3"
  },
  "language_info": {
   "codemirror_mode": {
    "name": "ipython",
    "version": 3
   },
   "file_extension": ".py",
   "mimetype": "text/x-python",
   "name": "python",
   "nbconvert_exporter": "python",
   "pygments_lexer": "ipython3",
   "version": "3.6.13"
  }
 },
 "nbformat": 4,
 "nbformat_minor": 5
}
